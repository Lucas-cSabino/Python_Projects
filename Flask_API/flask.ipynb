{
 "cells": [
  {
   "cell_type": "code",
   "execution_count": 14,
   "id": "784b6c39-6fc1-46f2-baf0-1d832882b614",
   "metadata": {},
   "outputs": [],
   "source": [
    "import pandas as pd\n",
    "from flask_ngrok import run_with_ngrok\n",
    "from flask import request, jsonify, Flask\n",
    "import random as rk\n",
    "from datetime import datetime"
   ]
  },
  {
   "cell_type": "code",
   "execution_count": 15,
   "metadata": {},
   "outputs": [],
   "source": [
    "app = Flask(__name__) #the name of the application package\n",
    "run_with_ngrok(app) "
   ]
  },
  {
   "cell_type": "code",
   "execution_count": 16,
   "id": "37885a52-e21f-49ea-9032-96da5b1476ff",
   "metadata": {},
   "outputs": [],
   "source": [
    "client = {\n",
    "    \"name\" : \"Lucas Carvalho\",\n",
    "    \"cpf\" : \"01232145689\",\n",
    "    \"endereco\" : \"12345678\",\n",
    "    \"conta\" : {\"tipo\" : \"conta corrente\",\n",
    "               \"agencia\" : \"belem\",\n",
    "               \"num\": \"1234\",\n",
    "               \"saldo\": \"500\"},\n",
    "    \"data\": datetime.utcnow()\n",
    "}"
   ]
  },
  {
   "cell_type": "code",
   "execution_count": 17,
   "id": "574d3034-374b-4f24-a823-7c6e1b06a953",
   "metadata": {},
   "outputs": [],
   "source": [
    "@app.route(\"/\") #code to assign HomePage URL in our app to function home.\n",
    "\n",
    "def home():\n",
    "  '''\n",
    "  The entire line below must be written in a single line.\n",
    "  '''\n",
    "  return \"<marquee><h3> TO CHECK IN PUT ADD '/input' TO THE URL AND TO CHECK OUT PUT ADD '/output' TO THE URL.</h3></marquee>\""
   ]
  },
  {
   "cell_type": "code",
   "execution_count": 18,
   "metadata": {},
   "outputs": [],
   "source": [
    "@app.route(\"/input\") #code to assign Input URL in our app to function input.\n",
    "\n",
    "def input():\n",
    "  return jsonify(client) # \"client\" is the dictionary we defined"
   ]
  },
  {
   "cell_type": "code",
   "execution_count": 19,
   "metadata": {},
   "outputs": [
    {
     "name": "stdout",
     "output_type": "stream",
     "text": [
      " * Serving Flask app '__main__'\n",
      " * Debug mode: off\n"
     ]
    },
    {
     "name": "stderr",
     "output_type": "stream",
     "text": [
      "\u001b[31m\u001b[1mWARNING: This is a development server. Do not use it in a production deployment. Use a production WSGI server instead.\u001b[0m\n",
      " * Running on http://127.0.0.1:5000\n",
      "\u001b[33mPress CTRL+C to quit\u001b[0m\n",
      "Exception in thread Thread-4:\n",
      "Traceback (most recent call last):\n",
      "  File \"/home/lucas/.pyenv/versions/3.11.5/lib/python3.11/threading.py\", line 1038, in _bootstrap_inner\n",
      "    self.run()\n",
      "  File \"/home/lucas/.pyenv/versions/3.11.5/lib/python3.11/threading.py\", line 1394, in run\n",
      "    self.function(*self.args, **self.kwargs)\n",
      "  File \"/home/lucas/.pyenv/versions/3.11.5/lib/python3.11/site-packages/flask_ngrok.py\", line 70, in start_ngrok\n",
      "    ngrok_address = _run_ngrok()\n",
      "                    ^^^^^^^^^^^^\n",
      "  File \"/home/lucas/.pyenv/versions/3.11.5/lib/python3.11/site-packages/flask_ngrok.py\", line 31, in _run_ngrok\n",
      "    ngrok = subprocess.Popen([executable, 'http', '5000'])\n",
      "            ^^^^^^^^^^^^^^^^^^^^^^^^^^^^^^^^^^^^^^^^^^^^^^\n",
      "  File \"/home/lucas/.pyenv/versions/3.11.5/lib/python3.11/subprocess.py\", line 1026, in __init__\n",
      "    self._execute_child(args, executable, preexec_fn, close_fds,\n",
      "  File \"/home/lucas/.pyenv/versions/3.11.5/lib/python3.11/subprocess.py\", line 1950, in _execute_child\n",
      "    raise child_exception_type(errno_num, err_msg, err_filename)\n",
      "PermissionError: [Errno 13] Permission denied: '/tmp/ngrok/ngrok'\n",
      "127.0.0.1 - - [23/Nov/2023 19:26:20] \"GET / HTTP/1.1\" 200 -\n",
      "127.0.0.1 - - [23/Nov/2023 19:26:21] \"\u001b[33mGET /favicon.ico HTTP/1.1\u001b[0m\" 404 -\n"
     ]
    }
   ],
   "source": [
    "@app.route('/output', methods=['GET','POST']) #output page\n",
    "\n",
    "def predJson():\n",
    " pred = rk.choice([\"positive\",\"negative\"])\n",
    " nd = client # our input\n",
    " nd[\"prediction\"]=pred\n",
    " return jsonify(nd)\n",
    "\n",
    "app.run()"
   ]
  }
 ],
 "metadata": {
  "kernelspec": {
   "display_name": "Python 3 (ipykernel)",
   "language": "python",
   "name": "python3"
  },
  "language_info": {
   "codemirror_mode": {
    "name": "ipython",
    "version": 3
   },
   "file_extension": ".py",
   "mimetype": "text/x-python",
   "name": "python",
   "nbconvert_exporter": "python",
   "pygments_lexer": "ipython3",
   "version": "3.11.5"
  }
 },
 "nbformat": 4,
 "nbformat_minor": 5
}
